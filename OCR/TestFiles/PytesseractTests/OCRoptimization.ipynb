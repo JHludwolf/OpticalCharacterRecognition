{
 "cells": [
  {
   "cell_type": "code",
   "execution_count": 1,
   "metadata": {},
   "outputs": [],
   "source": [
    "from PIL import Image\n",
    "import pytesseract\n",
    "from pytesseract import Output\n",
    "import numpy as np\n",
    "import cv2\n",
    "import matplotlib.pyplot as plt\n",
    "from sklearn.metrics import f1_score\n",
    "import textdistance"
   ]
  },
  {
   "cell_type": "code",
   "execution_count": 3,
   "metadata": {},
   "outputs": [
    {
     "data": {
      "text/plain": [
       "'for x in range(0, 100, 5):\\n    img = OGimg\\n    norm_img = np.zeros((img.shape[0], img.shape[1]))\\n    img = cv2.normalize(img, norm_img, 0, 255, cv2.NORM_MINMAX)\\n    img = cv2.threshold(img, x, 255, cv2.THRESH_BINARY)[1]\\n    img = cv2.GaussianBlur(img, (1, 1), 0)\\n\\n    results = pytesseract.image_to_data(img, lang=\"eng+spa\", output_type=Output.DICT)\\n\\n    predY = \\' \\'.join([ r for r in results[\\'text\\'] if r != \\'\\'])\\n\\n    dist = textdistance.hamming(test13, predY)\\n\\n    if dist <= lowestDist:\\n        bestX, lowestDist = x, dist\\n        print(\\'New Best: \\', bestX, lowestDist)\\n        bests.append([bestX, lowestDist])\\n\\n\\nprint(bestX, lowestDist)'"
      ]
     },
     "execution_count": 3,
     "metadata": {},
     "output_type": "execute_result"
    }
   ],
   "source": [
    "filename = '../tests/test13.png'\n",
    "\n",
    "#img = cv2.imread(filename)\n",
    "OGimg = np.array(Image.open(filename))\n",
    "\n",
    "test01 = 'Its Emma. I tried to call you but Signal bad. I been taken to hospital after having a fall this morning. If possible can you do me a quick favour and text me x'\n",
    "test13 = '¿QUE ES LA LEY DE OFERTA Y DEMANDA? La ley de la oferta y la demanda es el principio basico sobre el que se basa una economia de mercado. Este principio refleja la relación que existe entre la demanda de un producto y la cantidad ofrecida de ese producto teniendo en cuenta el precio al que se vende el producto.'\n",
    "test14 = '¿QUE ES LA LEY DE OFERTA Y DEMANDA? Asi, segun el precio que haya en el mercado de un bien, los oferentes (los que venden) estan dispuestos a fabricar un número determinado de ese bien. Al igual que los demandantes (los que compran) están dispuestos a comprar un número determinado de ese bien, dependiendo del precio'\n",
    "\n",
    "bestX = -1\n",
    "lowestDist = 10000\n",
    "\n",
    "bests = []\n",
    "\n",
    "'''for x in range(0, 100, 5):\n",
    "    img = OGimg\n",
    "    norm_img = np.zeros((img.shape[0], img.shape[1]))\n",
    "    img = cv2.normalize(img, norm_img, 0, 255, cv2.NORM_MINMAX)\n",
    "    img = cv2.threshold(img, x, 255, cv2.THRESH_BINARY)[1]\n",
    "    img = cv2.GaussianBlur(img, (1, 1), 0)\n",
    "\n",
    "    results = pytesseract.image_to_data(img, lang=\"eng+spa\", output_type=Output.DICT)\n",
    "\n",
    "    predY = ' '.join([ r for r in results['text'] if r != ''])\n",
    "\n",
    "    dist = textdistance.hamming(test13, predY)\n",
    "\n",
    "    if dist <= lowestDist:\n",
    "        bestX, lowestDist = x, dist\n",
    "        print('New Best: ', bestX, lowestDist)\n",
    "        bests.append([bestX, lowestDist])\n",
    "\n",
    "\n",
    "print(bestX, lowestDist)'''"
   ]
  },
  {
   "cell_type": "code",
   "execution_count": 14,
   "metadata": {},
   "outputs": [
    {
     "name": "stdout",
     "output_type": "stream",
     "text": [
      "New Best:  0 0\n",
      "\n",
      "New Best:  25 0\n",
      "\n",
      "UKRAINE    Sanya Mansoor\n",
      "\" 4 . atin, — 7 A — — , UKRAINE Mother Recounts Fleeing Home    Sanya Mansoor\n",
      "“ — — — A Young Ukrainian Mother Recounts Fleeing Home Sanya Mansoor\n"
     ]
    }
   ],
   "source": [
    "filename = '../tests/test09.png'\n",
    "\n",
    "#img = cv2.imread(filename)\n",
    "OGimg = np.array(Image.open(filename))\n",
    "norm_img = np.zeros((OGimg.shape[0], OGimg.shape[1]))\n",
    "OGimg = cv2.normalize(OGimg, norm_img, 0, 255, cv2.NORM_MINMAX)\n",
    "\n",
    "bestX = -1\n",
    "lowestSpace = 10000\n",
    "\n",
    "for x in range(0, 101, 25):\n",
    "    img = OGimg\n",
    "    \n",
    "    img = cv2.threshold(img, x, 255, cv2.THRESH_BINARY)[1]\n",
    "    img = cv2.GaussianBlur(img, (1, 1), 0)\n",
    "\n",
    "    results = pytesseract.image_to_data(img, lang=\"eng+spa\", output_type=Output.DICT)\n",
    "\n",
    "    predY = ' '.join([ r for r in results['text'] if r != ''])\n",
    "\n",
    "    spaces = predY.count(' ')\n",
    "    if spaces <= lowestSpace:\n",
    "        bestX, lowestSpace = x, spaces\n",
    "        print('New Best: ', bestX, lowestSpace)\n",
    "        #bests.append([bestX, lowestDist])\n",
    "    print(predY)\n",
    "\n",
    "# 25 - 75"
   ]
  }
 ],
 "metadata": {
  "interpreter": {
   "hash": "9c80a7e3a2de4dde693dabf38008612d40fcac8e48a425c55413d53e2fda1a28"
  },
  "kernelspec": {
   "display_name": "Python 3.8.3 ('base')",
   "language": "python",
   "name": "python3"
  },
  "language_info": {
   "codemirror_mode": {
    "name": "ipython",
    "version": 3
   },
   "file_extension": ".py",
   "mimetype": "text/x-python",
   "name": "python",
   "nbconvert_exporter": "python",
   "pygments_lexer": "ipython3",
   "version": "3.8.3"
  },
  "orig_nbformat": 4
 },
 "nbformat": 4,
 "nbformat_minor": 2
}
