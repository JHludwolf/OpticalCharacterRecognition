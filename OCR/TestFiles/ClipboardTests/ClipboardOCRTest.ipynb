{
 "cells": [
  {
   "cell_type": "code",
   "execution_count": 1,
   "metadata": {},
   "outputs": [],
   "source": [
    "from PIL import ImageGrab\n",
    "import pytesseract\n",
    "from pytesseract import Output\n",
    "import numpy as np\n",
    "import cv2\n",
    "import pyperclip\n",
    "from AppKit import NSSound"
   ]
  },
  {
   "cell_type": "code",
   "execution_count": 2,
   "metadata": {},
   "outputs": [],
   "source": [
    "def getTextFromClipboard(noiseReduction = False):\n",
    "\n",
    "    image = ImageGrab.grabclipboard()\n",
    "    img = np.array(image)\n",
    "\n",
    "    if noiseReduction:\n",
    "        norm_img = np.zeros((img.shape[0], img.shape[1]))\n",
    "        img = cv2.normalize(img, norm_img, 0, 255, cv2.NORM_MINMAX)\n",
    "        img = cv2.threshold(img, 100, 255, cv2.THRESH_BINARY)[1]\n",
    "        img = cv2.GaussianBlur(img, (1, 1), 0)\n",
    "\n",
    "    results = pytesseract.image_to_data(img, lang=\"eng+spa\", output_type=Output.DICT)\n",
    "    return ' '.join([ r for r in results['text'] if r != ''])"
   ]
  },
  {
   "cell_type": "code",
   "execution_count": 8,
   "metadata": {},
   "outputs": [],
   "source": [
    "try:\n",
    "    pyperclip.copy( getTextFromClipboard(noiseReduction=True) )\n",
    "    NSSound.soundNamed_('Glass').play()\n",
    "except:\n",
    "    pyperclip.copy('')\n",
    "    NSSound.soundNamed_('Funk').play()"
   ]
  }
 ],
 "metadata": {
  "interpreter": {
   "hash": "9c80a7e3a2de4dde693dabf38008612d40fcac8e48a425c55413d53e2fda1a28"
  },
  "kernelspec": {
   "display_name": "Python 3.8.3 ('base')",
   "language": "python",
   "name": "python3"
  },
  "language_info": {
   "codemirror_mode": {
    "name": "ipython",
    "version": 3
   },
   "file_extension": ".py",
   "mimetype": "text/x-python",
   "name": "python",
   "nbconvert_exporter": "python",
   "pygments_lexer": "ipython3",
   "version": "3.8.3"
  },
  "orig_nbformat": 4
 },
 "nbformat": 4,
 "nbformat_minor": 2
}
